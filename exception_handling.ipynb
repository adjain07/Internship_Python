{
 "cells": [
  {
   "cell_type": "code",
   "execution_count": 1,
   "metadata": {},
   "outputs": [
    {
     "name": "stdout",
     "output_type": "stream",
     "text": [
      "hello\n"
     ]
    }
   ],
   "source": [
    "print(\"hello\")"
   ]
  },
  {
   "cell_type": "code",
   "execution_count": 2,
   "metadata": {},
   "outputs": [
    {
     "name": "stdout",
     "output_type": "stream",
     "text": [
      "Python 3.12.4\n"
     ]
    }
   ],
   "source": [
    "!python --version"
   ]
  },
  {
   "cell_type": "code",
   "execution_count": 6,
   "metadata": {},
   "outputs": [
    {
     "name": "stdout",
     "output_type": "stream",
     "text": [
      "aditya\n",
      "my name is: aditya and i am 21 year old\n"
     ]
    }
   ],
   "source": [
    "name = input('enter your name: ')\n",
    "print(name)\n",
    "age = int(input('enter your age: '))\n",
    "\n",
    "print('my name is:',name,'and i am',age,'year old')\n",
    "\n",
    "print(\"important line 1\")\n",
    "print(\"important line 2\")\n",
    "print(\"important line 3\")\n",
    "print(\"important line 4\")\n"
   ]
  },
  {
   "cell_type": "code",
   "execution_count": 10,
   "metadata": {},
   "outputs": [
    {
     "name": "stdout",
     "output_type": "stream",
     "text": [
      "aditya\n",
      "my name is: aditya and i am 21 year old\n",
      "error not occured\n",
      "i am always\n",
      "important line 1\n",
      "important line 2\n",
      "important line 3\n",
      "important line 4\n"
     ]
    }
   ],
   "source": [
    "try:\n",
    "    name = input('enter your name: ')\n",
    "    print(name)\n",
    "    age = int(input('enter your age: '))\n",
    "\n",
    "    print('my name is:',name,'and i am',age,'year old')\n",
    "\n",
    "except:\n",
    "    print('error occured')\n",
    "else:\n",
    "    print('error not occured')\n",
    "finally:\n",
    "    print('i am always')\n",
    "\n",
    "print(\"important line 1\")\n",
    "print(\"important line 2\")\n",
    "print(\"important line 3\")\n",
    "print(\"important line 4\")\n",
    "\n",
    "\n"
   ]
  },
  {
   "cell_type": "code",
   "execution_count": null,
   "metadata": {},
   "outputs": [],
   "source": []
  }
 ],
 "metadata": {
  "kernelspec": {
   "display_name": "Python 3",
   "language": "python",
   "name": "python3"
  },
  "language_info": {
   "codemirror_mode": {
    "name": "ipython",
    "version": 3
   },
   "file_extension": ".py",
   "mimetype": "text/x-python",
   "name": "python",
   "nbconvert_exporter": "python",
   "pygments_lexer": "ipython3",
   "version": "3.12.4"
  }
 },
 "nbformat": 4,
 "nbformat_minor": 2
}
